{
 "cells": [
  {
   "cell_type": "markdown",
   "metadata": {},
   "source": [
    "<img src=\"logo.png\" width=\"200\">"
   ]
  },
  {
   "cell_type": "markdown",
   "metadata": {},
   "source": [
    "<b>Análise de acessos ao domínio da empresa:</b><br><br>"
   ]
  },
  {
   "cell_type": "markdown",
   "metadata": {},
   "source": [
    "<font color='darkblue'>\n",
    "<b><br>Executar todas as células. Resultado aparece no final da página.<br></b><br>\n",
    "</font>"
   ]
  },
  {
   "cell_type": "code",
   "execution_count": null,
   "metadata": {},
   "outputs": [],
   "source": [
    "#Carregando as bibliotecas necessárias, primeira parte\n",
    "# coding: utf-8\n",
    "import pandas as pd\n",
    "import re\n",
    "from unicodedata import normalize\n",
    "from IPython.display import display, HTML\n",
    "import matplotlib\n",
    "import matplotlib.pyplot as plt\n",
    "plt.style.available\n",
    "import xlwings as xw\n",
    "import os\n",
    "from subprocess import Popen\n",
    "import os,sys\n",
    "from functools import reduce"
   ]
  },
  {
   "cell_type": "code",
   "execution_count": null,
   "metadata": {},
   "outputs": [],
   "source": [
    "#Carregando as bibliotecas necessárias e configurando notebook, segunda parte\n",
    "%matplotlib inline"
   ]
  },
  {
   "cell_type": "code",
   "execution_count": null,
   "metadata": {},
   "outputs": [],
   "source": [
    "#Carregando as bibliotecas necessárias e configurando notebook, segunda parte\n",
    "import venn\n",
    "import matplotlib\n",
    "#matplotlib.use('Agg')\n",
    "from matplotlib_venn import venn3, venn3_circles\n",
    "from matplotlib_venn import venn2, venn2_circles"
   ]
  },
  {
   "cell_type": "code",
   "execution_count": null,
   "metadata": {},
   "outputs": [],
   "source": [
    "#Carregando as bibliotecas necessárias e configurando notebook, segunda parte\n",
    "import plotly.graph_objects as go\n",
    "!jupyter nbextension enable --py widgetsnbextension\n",
    "\n",
    "from chart_studio.plotly import plot, iplot as py\n",
    "import plotly.graph_objects as go\n",
    "from plotly.offline import iplot, init_notebook_mode\n",
    "# Using plotly + cufflinks in offline mode\n",
    "import cufflinks\n",
    "cufflinks.go_offline(connected=True)\n",
    "init_notebook_mode(connected=True)"
   ]
  },
  {
   "cell_type": "code",
   "execution_count": null,
   "metadata": {},
   "outputs": [],
   "source": [
    "#Carregando as bibliotecas necessárias e configurando notebook, segunda parte\n",
    "from IPython.core.display import HTML\n",
    "HTML(\"\"\"\n",
    "    <style>\n",
    "    .output_png {\n",
    "        display: table-cell;\n",
    "        text-align: center;\n",
    "        vertical-align: middle;\n",
    "    }\n",
    "    </style>\n",
    "    \"\"\")"
   ]
  },
  {
   "cell_type": "code",
   "execution_count": null,
   "metadata": {},
   "outputs": [],
   "source": [
    "#Criando dicionário para substituir letras com acentos\n",
    "dictionary_acentos = {'á':'a','é':'e','í':'i','ó':'o','ú':'u',\n",
    "              'â':'a','ê':'e','î':'i','ô':'o','û':'u',\n",
    "              'ã':'a','õ':'o',\n",
    "              'à':'a','è':'e','ì':'i','ò':'o','ù':'u',\n",
    "              'ç':'c'}"
   ]
  },
  {
   "cell_type": "code",
   "execution_count": null,
   "metadata": {},
   "outputs": [],
   "source": [
    "#Indicando arquivos e diretórios para obtenção dos dados de usuários e grupos da rede\n",
    "diretorio_bases = str('') ####colocar diretorio\n",
    "base_grupos = str('arquivo.csv') ###colocar nome do arquivo\n",
    "base_usuarios_levantamento = str('arquivo.txt')###colocar nome do arquivo\n",
    "diretorio_resultado_consulta = str('') ###colocar nome do diretorio\n",
    "base_rh = str('arquivo_com_dados_dos_funcionarios_conforme_rh.xls')###colocar nome do arquivo\n",
    "arquivo_grupos = os.path.join(diretorio_bases, base_grupos)\n",
    "arquivo_usuarios_levantamento = os.path.join(diretorio_bases, base_usuarios_levantamento)\n",
    "detalhe_usuarios = os.listdir(diretorio_resultado_consulta)\n",
    "relacao_rh = os.path.join(diretorio_bases,base_rh)"
   ]
  },
  {
   "cell_type": "code",
   "execution_count": null,
   "metadata": {},
   "outputs": [],
   "source": [
    "#Função para criar df com os grupos existentes na base consultada\n",
    "def base_grupos():\n",
    "    with open(arquivo_grupos) as g:\n",
    "        tmp_grupos_rede = [line.rstrip('\\n') for line in g]\n",
    "    grupos_rede = pd.DataFrame(tmp_grupos_rede[6:-2], columns=[0])\n",
    "    grupos_rede.reset_index(drop=True).rename(columns={0:'Grupos'})\n",
    "    return grupos_rede"
   ]
  },
  {
   "cell_type": "code",
   "execution_count": null,
   "metadata": {},
   "outputs": [],
   "source": [
    "#Função para criar dfs diversos com os usuarios existentes na base consultada, arquivo com detalhes sobre grupos\n",
    "def base_detalhe_usuarios():\n",
    "    nomes_dos_arquivos=[]\n",
    "    arquivos = {}\n",
    "    login = []\n",
    "    status = []\n",
    "    comentario = []\n",
    "    ultimo_logon = []\n",
    "    grupos = []\n",
    "    for nome in detalhe_usuarios:\n",
    "        if nome != \"tmp_users.txt\":\n",
    "            nomes_dos_arquivos.append(nome)\n",
    "            linhanum = 0\n",
    "            login_padrao = re.compile(r\"^Nome de u.*\")\n",
    "            status_padrao = re.compile(r\"^Conta ativa.*\")\n",
    "            comentario_padrao = re.compile(r\"Coment.rio+[\\s]+[\\s].*\")\n",
    "            ultimo_logon_padrao = re.compile(r\".*o logon.*\")\n",
    "            grupos_pri_padrao = re.compile(r\".*Grupo Global.*\")\n",
    "            grupos_seg_padrao = re.compile(r'^\\W+[\\w]')#(r'^([\\w]+)\\W+[\\w]')\n",
    "            endereco = os.path.join(diretorio_resultado_consulta, nome)\n",
    "            with open (endereco, 'r', encoding='iso-8859-1') as u:\n",
    "               for linha_arquivo in u:\n",
    "                    linhanum += 1\n",
    "                    if login_padrao.search(linha_arquivo) != None:\n",
    "                       login.append(nome + ',' + linha_arquivo.rstrip())\n",
    "                    if status_padrao.search(linha_arquivo) != None:\n",
    "                        status.append((nome + ',' + linha_arquivo.rstrip()))\n",
    "                    if comentario_padrao.search(linha_arquivo) != None:\n",
    "                        comentario.append((nome + ',' + linha_arquivo.rstrip()))               \n",
    "                    if ultimo_logon_padrao.search(linha_arquivo) != None:\n",
    "                        ultimo_logon.append((nome + ',' + linha_arquivo.rstrip()))\n",
    "                    if grupos_pri_padrao.search(linha_arquivo) != None:\n",
    "                        grupos.append((nome + ',' + linha_arquivo.rstrip()))\n",
    "                    if grupos_seg_padrao.search(linha_arquivo) != None:\n",
    "                        grupos.append((nome + ',Associações de Grupo Global' + linha_arquivo.rstrip()))    \n",
    "        else:\n",
    "            None\n",
    "    #Ajustando encoding manualmente\n",
    "    login = [item.replace(\"\\x87\", \"ç\").replace(\"\\xa0\", \"á\").replace(\"Æ\", \"ã\").replace(\"¡\", \"í\").replace(\"él\",\"ú\").replace(\"ä\",\"õ\").replace(\"\\x82\", \"é\") for item in login]\n",
    "    status = [item.replace(\"\\x87\", \"ç\").replace(\"\\xa0\", \"á\").replace(\"Æ\", \"ã\").replace(\"¡\", \"í\").replace(\"él\",\"ú\").replace(\"ä\",\"õ\").replace(\"\\x82\", \"é\") for item in status]\n",
    "    comentario = [item.replace(\"\\x87\", \"ç\").replace(\"\\xa0\", \"á\").replace(\"Æ\", \"ã\").replace(\"¡\", \"í\").replace(\"él\",\"ú\").replace(\"ä\",\"õ\").replace(\"\\x82\", \"é\") for item in comentario]\n",
    "    ultimo_logon = [item.replace(\"\\x87\", \"ç\").replace(\"\\xa0\", \"á\").replace(\"Æ\", \"ã\").replace(\"¡\", \"í\").replace(\"él\",\"ú\").replace(\"ä\",\"õ\").replace(\"\\x82\", \"é\") for item in ultimo_logon]\n",
    "    grupos = [item.replace(\"\\x87\", \"ç\").replace(\"\\xa0\", \"á\").replace(\"Æ\", \"ã\").replace(\"¡\", \"í\").replace(\"él\",\"ú\").replace(\"ä\",\"õ\").replace(\"\\x82\", \"é\") for item in grupos]\n",
    "\n",
    "    login = (pd.DataFrame([i.split(',Nome de usuário') for i in login]))\n",
    "    login.rename(columns={0:'Origem',1:'Login'}, inplace=True)\n",
    "    status = (pd.DataFrame([i.split(',Conta ativa') for i in status]))\n",
    "    status.rename(columns={0:'Origem',1:'Status_Ativo'}, inplace=True)\n",
    "    comentario = (pd.DataFrame([i.split(',Comentário') for i in comentario]))\n",
    "    comentario.rename(columns={0:'Origem',1:'Comentario'}, inplace=True)\n",
    "    ultimo_logon = (pd.DataFrame([i.split(',útimo logon') for i in ultimo_logon]))\n",
    "    ultimo_logon.rename(columns={0:'Origem',1:'Ultimo_Logon'}, inplace=True)\n",
    "    grupos = (pd.DataFrame([i.split(',Associações de Grupo Global') for i in grupos]))\n",
    "    grupos.rename(columns={0:'Origem',1:'Grupos'}, inplace=True)\n",
    "\n",
    "    return (login, status, comentario, ultimo_logon, grupos)"
   ]
  },
  {
   "cell_type": "code",
   "execution_count": null,
   "metadata": {},
   "outputs": [],
   "source": [
    "#Função para criar df unico com os usuarios ativos, tanto do detalhe quanto do levantamento geral\n",
    "def base_usuarios_rede_ativos():\n",
    "    login, status, comentario, ultimo_logon, grupos = base_detalhe_usuarios()\n",
    "    data_frames = [login, status, comentario, ultimo_logon, grupos]\n",
    "    usuarios_rede_detalhe = reduce(lambda  left,right: pd.merge(left,right,on=['Origem'],how='outer'), data_frames).fillna('nulo')\n",
    "    usuarios_rede_detalhe['Tipo'] = 'Rede'\n",
    "    usuarios_rede_detalhe_ativos = usuarios_rede_detalhe[usuarios_rede_detalhe['Status_Ativo'].str.contains('|'.join('Sim'), na = False)]\n",
    "    usuarios_rede_detalhe_ativos.replace('(^\\s+|\\s+$)', '', regex=True, inplace=True)\n",
    "\n",
    "    usuarios_rede_levantamento = pd.read_csv(arquivo_usuarios_levantamento)\n",
    "\n",
    "    usuarios_rede_ativos = pd.merge(usuarios_rede_detalhe_ativos,usuarios_rede_levantamento, left_on='Login', right_on='sAMAccountName', how='left').fillna('nulo')\n",
    "    usuarios_rede_ativos['mail'] = usuarios_rede_ativos['mail'].str.lower()\n",
    "    usuarios_rede_ativos['mail'].replace(dictionary_acentos, regex=True, inplace=True)\n",
    "    usuarios_rede_ativos['department'] = usuarios_rede_ativos['department'].str.lower()\n",
    "    usuarios_rede_ativos['department'].replace(dictionary_acentos, regex=True, inplace=True)\n",
    "    usuarios_rede_ativos['mail'] = usuarios_rede_ativos['mail'].str.strip()\n",
    "\n",
    "    return usuarios_rede_ativos"
   ]
  },
  {
   "cell_type": "code",
   "execution_count": null,
   "metadata": {},
   "outputs": [],
   "source": [
    "#Função para criar df com dados de funcionários ativos conforme relação do RH\n",
    "def base_funcionarios_ativos_rh():\n",
    "    sheet = xw.Book(relacao_rh).sheets['Ativos_jun'].used_range\n",
    "    relacao_ativos_rh = pd.DataFrame(xw.Book(relacao_rh).sheets['Ativos_jun'].used_range.value)\n",
    "    new_header = relacao_ativos_rh.iloc[0]\n",
    "    relacao_ativos_rh = relacao_ativos_rh[1:]\n",
    "    relacao_ativos_rh.columns = new_header\n",
    "    relacao_ativos_rh.reset_index(drop=True, inplace=True)\n",
    "    relacao_ativos_rh['mail'] = relacao_ativos_rh['mail'].str.lower()\n",
    "    relacao_ativos_rh['mail'].replace(dictionary_acentos, regex=True, inplace=True)\n",
    "    relacao_ativos_rh['Centro_Resultado_Nome'] = relacao_ativos_rh['Centro_Resultado_Nome'].str.lower()\n",
    "    relacao_ativos_rh['Centro_Resultado_Nome'].replace(dictionary_acentos, regex=True, inplace=True)\n",
    "    relacao_ativos_rh['Empresa_Razão_Social'] = relacao_ativos_rh['Empresa_Razão_Social'].str.lower()\n",
    "    relacao_ativos_rh['Empresa_Razão_Social'].replace(dictionary_acentos, regex=True, inplace=True)\n",
    "    relacao_ativos_rh =relacao_ativos_rh.drop(['CPF'], axis=1)\n",
    "    relacao_ativos_rh['mail'] = relacao_ativos_rh['mail'].str.strip()\n",
    "    relacao_ativos_rh['Nome'] = relacao_ativos_rh['Nome'].str.strip()\n",
    "    #quebra_nome_lista = (pd.DataFrame([ x.split() for x in relacao_ativos_rh['mail'].tolist()]))\n",
    "    #relacao_ativos_rh['mail'] = quebra_nome_lista[0]\n",
    "    #relacao_ativos_rh['mail'].astype(str)\n",
    "    return relacao_ativos_rh"
   ]
  },
  {
   "cell_type": "code",
   "execution_count": null,
   "metadata": {},
   "outputs": [],
   "source": [
    "relacao_ativos_rh = base_funcionarios_ativos_rh()\n",
    "usuarios_rede_ativos = base_usuarios_rede_ativos()"
   ]
  },
  {
   "cell_type": "code",
   "execution_count": null,
   "metadata": {},
   "outputs": [],
   "source": [
    "#Gerar comparativo entre bases para arquivos de localizados e não localizados\n",
    "def comparativo():\n",
    "    #relacao_ativos_rh = base_funcionarios_ativos_rh()\n",
    "    #usuarios_rede_ativos = base_usuarios_rede_ativos()\n",
    "    comparacao = pd.merge(usuarios_rede_ativos, relacao_ativos_rh, left_on='mail', right_on='mail', how='outer', indicator=True)\n",
    "    usuarios_localizados = comparacao[comparacao._merge.isin(['both'])]\n",
    "    #display(HTML(usuarios_localizados[:3].to_html(index=False)))\n",
    "    usuarios_localizados.to_excel(os.path.join(diretorio_bases, 'usuarios_localizados.xlsx'))\n",
    "    usuarios_nao_localizados = comparacao[~comparacao._merge.isin(['both'])]\n",
    "    #display(HTML(usuarios_nao_localizados[:3].to_html(index=False)))\n",
    "    usuarios_nao_localizados.to_excel(os.path.join(diretorio_bases, 'usuarios_nao_localizados.xlsx'))\n",
    "    return usuarios_localizados, usuarios_nao_localizados, comparacao"
   ]
  },
  {
   "cell_type": "code",
   "execution_count": null,
   "metadata": {},
   "outputs": [],
   "source": [
    "usuarios_localizados, usuarios_nao_localizados, comparacao = comparativo()"
   ]
  },
  {
   "cell_type": "code",
   "execution_count": null,
   "metadata": {},
   "outputs": [],
   "source": [
    "#Diagrama de venn\n",
    "def diagrama_venn():\n",
    "    set_rede = usuarios_rede_ativos[['mail', 'Comentario']]\n",
    "    set_rh =  relacao_ativos_rh[['mail','Empresa_Razão_Social']]\n",
    "\n",
    "    lst_rede = set_rede['mail'].tolist()\n",
    "    lst_rh = set_rh['mail'].tolist()\n",
    "    \n",
    "    tpl_rh = sorted(set(map(tuple, lst_rh)), reverse=True)\n",
    "    tpl_rede = sorted(set(map(tuple, lst_rede)), reverse=True)\n",
    "\n",
    "    v = venn2([set(lst_rh), set(lst_rede)], set_labels = ('RH', 'Rede'))\n",
    "    c = venn2_circles([set(lst_rh), set(lst_rede)],linestyle='dashed')\n",
    "    c[1].set_lw(0.5)\n",
    "    c[0].set_lw(1.5)\n",
    "    c[0].set_ls('dotted')\n",
    "    for circle, color in zip(c, ['#DD5F13', '#45548D']):\n",
    "        circle.set_lw(2.0)\n",
    "        circle.set_ls('dotted')\n",
    "        circle.set_alpha(0.5)\n",
    "        circle.set_color(color)\n",
    "    csfont = {'fontname':'Arial', 'size':16, 'color': '#2A3F5F'}\n",
    "    plt.title('Comparação entre funcionários e logins ativos no domínio consultado',**csfont)\n",
    "    return plt.show()"
   ]
  },
  {
   "cell_type": "code",
   "execution_count": null,
   "metadata": {},
   "outputs": [],
   "source": [
    "#Gráficos agrupando não localizados por categorias\n",
    "def categorias_n_loc():\n",
    "    \n",
    "\n",
    "    nao_localizados_rede = usuarios_nao_localizados.loc[usuarios_nao_localizados['_merge'] == 'left_only'][['mail','Comentario']]\n",
    "    nao_localizados_rede = nao_localizados_rede.groupby('Comentario',as_index=True).agg(['nunique'])\n",
    "    nao_localizados_rede = nao_localizados_rede.reset_index()\n",
    "    nao_localizados_rede = nao_localizados_rede.droplevel(1, axis=1)\n",
    "    nao_localizados_rede.rename(columns={'Comentario':'Categoria', 'mail':'Qtd'}, inplace=True)\n",
    "    nao_localizados_rede['Categoria'] = nao_localizados_rede['Categoria'].replace('','Sem comentários para o login')\n",
    "    nao_localizados_rede = nao_localizados_rede.sort_values(by='Qtd', ascending=False).reset_index(drop=True)\n",
    "     \n",
    "    nao_localizados_rh = pd.DataFrame(usuarios_nao_localizados.loc[usuarios_nao_localizados['_merge'] == 'right_only'][['mail','Empresa_Razão_Social']].groupby(['Empresa_Razão_Social'],as_index=True).size()).sort_values(by=0, ascending=False).reset_index()\n",
    "    nao_localizados_rh.rename(columns={0:'Qtd', 'Empresa_Razão_Social':'Categoria'}, inplace=True)\n",
    "    \n",
    "    trace1 = go.Bar(\n",
    "                x = nao_localizados_rh.Categoria,\n",
    "                y = nao_localizados_rh.Qtd,\n",
    "                name = \"Qtd\",\n",
    "                marker = dict(color = '#008295',\n",
    "                             line=dict(color='rgb(0,0,0)',width=1),\n",
    "                             opacity=0.6), \n",
    "                offsetgroup=0,\n",
    "                text=nao_localizados_rh.Qtd,\n",
    "                textposition='outside')\n",
    "    data1 = [trace1]\n",
    "    layout1 = go.Layout(barmode = \"group\",\n",
    "        xaxis = go.XAxis(showticklabels=True, automargin=False, tickangle = 15,\n",
    "        title_standoff = 5),\n",
    "        yaxis = go.XAxis(showticklabels=False),\n",
    "        margin=dict(l=300, r=70,t=70,b=120),\n",
    "        title = \"Funcionários ativos com login não localizado no domínio consultado\")\n",
    "    fig1 = go.Figure(data = data1, layout = layout1)\n",
    "    fig1.update_layout(width=900, height=600, title={'font_family':\"Arial\",'y':0.95, 'x':0.5,'xanchor': 'center','yanchor': 'top'})\n",
    "\n",
    "    trace2 = go.Bar(\n",
    "                y = nao_localizados_rede.Categoria,\n",
    "                x = nao_localizados_rede.Qtd,\n",
    "    \n",
    "                name = \"Qtd\",\n",
    "                marker = dict(color = '#008295',\n",
    "                             line=dict(color='rgb(0,0,0)',width=1),\n",
    "                             opacity=0.6), \n",
    "                offsetgroup=0,\n",
    "                text=nao_localizados_rede.Qtd,\n",
    "                textposition='outside', orientation='h')\n",
    "    data2 = [trace2]\n",
    "    layout2 = go.Layout(barmode = \"group\",\n",
    "        yaxis = go.XAxis(showticklabels=True, automargin=False, tickangle = 0, tickfont = {\"size\":9},\n",
    "        title_standoff = 5),\n",
    "        xaxis = go.XAxis(showticklabels=False),\n",
    "        margin=dict(l=300, r=70,t=70,b=70),\n",
    "        title='Logins com email não localizado no controle mais atual do RH')\n",
    "    fig2 = go.Figure(data = data2, layout = layout2)\n",
    "    fig2.update_layout(width=900, height=1500, title={'font_family':\"Arial\",'y':0.98, 'x':0.5,'xanchor': 'center','yanchor': 'top'})\n",
    "    fig2.update_layout( yaxis={'categoryorder':'total ascending'})\n",
    "\n",
    "    return iplot(fig1), iplot(fig2)"
   ]
  },
  {
   "cell_type": "code",
   "execution_count": null,
   "metadata": {},
   "outputs": [],
   "source": [
    "from __future__ import print_function\n",
    "from ipywidgets import interact, interactive, fixed\n",
    "import ipywidgets as widgets\n",
    "!jupyter nbextension enable --py widgetsnbextension\n",
    "\n",
    "from floweaver import *\n",
    "from ipywidgets import *"
   ]
  },
  {
   "cell_type": "code",
   "execution_count": null,
   "metadata": {},
   "outputs": [],
   "source": [
    "#Criando função que traz lista de valores\n",
    "def unique_sorted_values(array):\n",
    "    unique = array.unique().tolist()\n",
    "    unique.sort()\n",
    "    return unique"
   ]
  },
  {
   "cell_type": "code",
   "execution_count": null,
   "metadata": {},
   "outputs": [],
   "source": [
    "#Criando botões\n",
    "def dropdowns():\n",
    "    global dropdown_agrupamento,dropdown_grupos_rede \n",
    "    global output_resultado\n",
    "    #plot_output_agrupamento, plot_output_grupos_rede\n",
    "\n",
    "    dropdown_agrupamento = widgets.Dropdown(options = ['Centro_Resultado_Nome', 'Cargo'], description='Selecione:')\n",
    "    dropdown_grupos_rede = widgets.Dropdown(options = unique_sorted_values(usuarios_localizados.Grupos.astype('str')))\n",
    "\n",
    "    output_resultado = widgets.Output()\n",
    "\n",
    "    \n",
    "    return;"
   ]
  },
  {
   "cell_type": "code",
   "execution_count": null,
   "metadata": {},
   "outputs": [],
   "source": [
    "#Transformando botões em filtros\n",
    "def common_filtering(agrupamento, grupos_rede):\n",
    "    global common_filter, b\n",
    "    \n",
    "    output_resultado.clear_output()\n",
    "    \n",
    "    if (agrupamento == 'Centro_Resultado_Nome'):\n",
    "        a = usuarios_localizados.loc[usuarios_localizados['Grupos'] == grupos_rede][['Centro_Resultado_Nome','mail','Grupos']]\n",
    "        a = a.groupby(['Centro_Resultado_Nome','Grupos'],as_index=True).agg(['nunique']).reset_index()\n",
    "        a = a.droplevel(1, axis=1)\n",
    "        a.rename(columns={'Centro_Resultado_Nome':'target', 'Grupos':'source', 'mail':'value'}, inplace=True)        \n",
    "        common_filter = a\n",
    "\n",
    "    \n",
    "    else:\n",
    "        a = usuarios_localizados.loc[usuarios_localizados['Grupos'] == grupos_rede][['Cargo','mail','Grupos']]\n",
    "        a = a.groupby(['Cargo','Grupos'],as_index=True).agg(['nunique']).reset_index()\n",
    "        a = a.droplevel(1, axis=1)\n",
    "        a.rename(columns={'Cargo':'target', 'Grupos':'source', 'mail':'value'}, inplace=True)        \n",
    "        common_filter = a\n",
    "\n",
    "        \n",
    "    nodes={'start':ProcessGroup(list(common_filter['source'])),'end':ProcessGroup(list(common_filter['target'])),}\n",
    "    ordering = [['start'],['end']]\n",
    "    bundles = [Bundle('start','end')]\n",
    "    nodes['start'].partition = Partition.Simple('source',common_filter['source'].unique())\n",
    "    nodes['end'].partition = Partition.Simple('target',common_filter['target'].unique())\n",
    "    sdd = SankeyDefinition(nodes, bundles, ordering)\n",
    "    size_options = dict(width=700, height=800,\n",
    "                 margins=dict(left=175, right=175, top=0, bottom=0))\n",
    "    scale = QuantitativeScale('value', palette='Blues_3')\n",
    "    b = weave(sdd,common_filter,link_color=scale).to_widget(**size_options) \n",
    "    \n",
    "    with output_resultado:\n",
    "        display(b)"
   ]
  },
  {
   "cell_type": "code",
   "execution_count": null,
   "metadata": {},
   "outputs": [],
   "source": [
    "\n",
    "%%html\n",
    "<style>\n",
    ".sankey .node {\n",
    "    font-size: 8pt;\n",
    "}\n",
    "</style>"
   ]
  },
  {
   "cell_type": "code",
   "execution_count": null,
   "metadata": {},
   "outputs": [],
   "source": [
    "#Criando relação de filtros para ambos botões criados\n",
    "def dropdown_agrupamento_eventhandler(change):\n",
    "    common_filtering(change.new, dropdown_grupos_rede.value)\n",
    "def dropdown_grupos_rede_eventhandler(change):\n",
    "    common_filtering(dropdown_agrupamento.value, change.new)"
   ]
  },
  {
   "cell_type": "code",
   "execution_count": null,
   "metadata": {
    "scrolled": false
   },
   "outputs": [],
   "source": [
    "\n",
    "botao_iniciar_resultado = widgets.Output(layout={'border': '1px solid black'})\n",
    "\n",
    "@botao_iniciar_resultado.capture(clear_output=True)\n",
    "def iniciando(event):\n",
    "    print('Você clicou no botão iniciar')\n",
    "    dropdowns()\n",
    "    resultado_dropdowns()\n",
    "    layouts_widgets()\n",
    "    return 1.0 \n",
    "\n",
    "botao_iniciar = widgets.Button(\n",
    "    description='Carregar base selecionada',\n",
    "    layout={'width': '200px'}\n",
    ")\n",
    "botao_iniciar.on_click(iniciando)"
   ]
  },
  {
   "cell_type": "code",
   "execution_count": null,
   "metadata": {},
   "outputs": [],
   "source": [
    "def resultado_dropdowns():\n",
    "    dropdown_agrupamento.observe(dropdown_agrupamento_eventhandler, names='value')\n",
    "    dropdown_grupos_rede.observe(dropdown_grupos_rede_eventhandler, names='value')\n",
    "    return;"
   ]
  },
  {
   "cell_type": "code",
   "execution_count": null,
   "metadata": {},
   "outputs": [],
   "source": [
    "def layouts_widgets():\n",
    "    global item_layout, input_widgets\n",
    "    item_layout = widgets.Layout(margin='0 0 100px 0')\n",
    "    input_widgets = widgets.HBox([dropdown_agrupamento, dropdown_grupos_rede], layout=item_layout)\n",
    "    return;"
   ]
  },
  {
   "cell_type": "code",
   "execution_count": null,
   "metadata": {},
   "outputs": [],
   "source": [
    "def exibir_resultados():\n",
    "    layouts_widgets()\n",
    "    tab = widgets.Tab([output_resultado], layout=item_layout)\n",
    "    tab.set_title(0, 'Sankey')\n",
    "    dashboard = widgets.VBox([input_widgets, tab])\n",
    "    display(dashboard)\n",
    "    return;"
   ]
  },
  {
   "cell_type": "code",
   "execution_count": null,
   "metadata": {},
   "outputs": [],
   "source": [
    "#Exibir o botão para escolha do ano    \n",
    "def exibir_botao_ano_e_carregar():\n",
    "    stats = interact(resposta=widgets.ToggleButtons(options=['Y','N']))\n",
    "    return;"
   ]
  },
  {
   "cell_type": "code",
   "execution_count": null,
   "metadata": {
    "scrolled": false
   },
   "outputs": [],
   "source": [
    "exibir_botao_ano_e_carregar()\n",
    "botao_iniciar"
   ]
  },
  {
   "cell_type": "code",
   "execution_count": null,
   "metadata": {
    "scrolled": false
   },
   "outputs": [],
   "source": [
    "#Carregando os gráficos resultantes\n",
    "diagrama_venn()\n",
    "categorias_n_loc()\n",
    "exibir_resultados()"
   ]
  },
  {
   "cell_type": "code",
   "execution_count": null,
   "metadata": {},
   "outputs": [],
   "source": []
  },
  {
   "cell_type": "code",
   "execution_count": null,
   "metadata": {},
   "outputs": [],
   "source": []
  }
 ],
 "metadata": {
  "file_extension": ".py",
  "kernelspec": {
   "display_name": "Python 3",
   "language": "python",
   "name": "python3"
  },
  "language_info": {
   "codemirror_mode": {
    "name": "ipython",
    "version": 3
   },
   "file_extension": ".py",
   "mimetype": "text/x-python",
   "name": "python",
   "nbconvert_exporter": "python",
   "pygments_lexer": "ipython3",
   "version": "3.7.4"
  },
  "mimetype": "text/x-python",
  "name": "python",
  "npconvert_exporter": "python",
  "pygments_lexer": "ipython3",
  "version": 3
 },
 "nbformat": 4,
 "nbformat_minor": 2
}